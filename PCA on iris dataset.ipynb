{
 "cells": [
  {
   "cell_type": "code",
   "execution_count": 2,
   "id": "b8224a81",
   "metadata": {},
   "outputs": [],
   "source": [
    "from sklearn import datasets\n",
    "from sklearn.preprocessing import StandardScaler\n",
    "import numpy as np\n",
    "import pandas as pd\n",
    "import matplotlib.pyplot as plt"
   ]
  },
  {
   "cell_type": "code",
   "execution_count": 56,
   "id": "78b07761",
   "metadata": {},
   "outputs": [],
   "source": [
    "def visualize_data(x,y, title='Random Plot', target=[0], label =['Principal component 1', 'Principal component 2']):\n",
    "    colormap = np.array(['r', 'g', 'b'])\n",
    "    plt.scatter(x,y, c= colormap[target])\n",
    "    plt.title(title)\n",
    "    plt.xlabel(label[0])\n",
    "    plt.ylabel(label[1])\n",
    "#     plt.axhline(0, color='b')\n",
    "    # Add a legend with roll numbers\n",
    "    plt.legend([f'Roll [5,9]'])\n",
    "    plt.show()\n",
    "\n",
    "def cal_cov_eig(new_x):\n",
    "    cov_mat = np.cov(new_x.T)\n",
    "    eigenvalues, eigenvectors = np.linalg.eig(cov_mat)\n",
    "    print(f'Covariance Matrix: {cov_mat}\\n Eigen Values: {eigenvalues}\\n Eigen Vectors: {eigenvectors}')\n",
    "    return cov_mat,  eigenvalues, eigenvectors\n",
    "\n",
    "def apply_pca(eigen_row, x):\n",
    "    pca_data = np.matmul(eigen_row, x.T)\n",
    "    pca_data= pca_data.T\n",
    "    return pca_data\n",
    "\n",
    "def cal_prop(e):\n",
    "    prop = []\n",
    "    sum = np.sum(e)\n",
    "    for i in range(len(e)):\n",
    "        prop.append((e[i]/sum)*100)\n",
    "    return prop\n",
    "\n",
    "#return rowise eigen vector\n",
    "def sort_evect(eval, evect):\n",
    "    pair = dict()\n",
    "    for i in range(len(eval)):\n",
    "        pair[np.abs(eval[i])]= evect[:, i]  \n",
    "    sorted_pair = dict(sorted(pair.items(), reverse= True))\n",
    "    evect_sorted= np.array(list(sorted_pair.values()))\n",
    "    return evect_sorted"
   ]
  },
  {
   "cell_type": "code",
   "execution_count": 5,
   "id": "b54b0351",
   "metadata": {},
   "outputs": [],
   "source": [
    "#loading the dataset\n",
    "from sklearn.datasets import load_iris\n",
    "ds = load_iris()\n",
    "df = pd.DataFrame(data=ds.data, columns=ds.feature_names)"
   ]
  },
  {
   "cell_type": "code",
   "execution_count": 6,
   "id": "ea989122",
   "metadata": {},
   "outputs": [
    {
     "data": {
      "text/html": [
       "<div>\n",
       "<style scoped>\n",
       "    .dataframe tbody tr th:only-of-type {\n",
       "        vertical-align: middle;\n",
       "    }\n",
       "\n",
       "    .dataframe tbody tr th {\n",
       "        vertical-align: top;\n",
       "    }\n",
       "\n",
       "    .dataframe thead th {\n",
       "        text-align: right;\n",
       "    }\n",
       "</style>\n",
       "<table border=\"1\" class=\"dataframe\">\n",
       "  <thead>\n",
       "    <tr style=\"text-align: right;\">\n",
       "      <th></th>\n",
       "      <th>sepal length (cm)</th>\n",
       "      <th>sepal width (cm)</th>\n",
       "      <th>petal length (cm)</th>\n",
       "      <th>petal width (cm)</th>\n",
       "      <th>target</th>\n",
       "    </tr>\n",
       "  </thead>\n",
       "  <tbody>\n",
       "    <tr>\n",
       "      <th>0</th>\n",
       "      <td>5.1</td>\n",
       "      <td>3.5</td>\n",
       "      <td>1.4</td>\n",
       "      <td>0.2</td>\n",
       "      <td>0</td>\n",
       "    </tr>\n",
       "    <tr>\n",
       "      <th>1</th>\n",
       "      <td>4.9</td>\n",
       "      <td>3.0</td>\n",
       "      <td>1.4</td>\n",
       "      <td>0.2</td>\n",
       "      <td>0</td>\n",
       "    </tr>\n",
       "    <tr>\n",
       "      <th>2</th>\n",
       "      <td>4.7</td>\n",
       "      <td>3.2</td>\n",
       "      <td>1.3</td>\n",
       "      <td>0.2</td>\n",
       "      <td>0</td>\n",
       "    </tr>\n",
       "    <tr>\n",
       "      <th>3</th>\n",
       "      <td>4.6</td>\n",
       "      <td>3.1</td>\n",
       "      <td>1.5</td>\n",
       "      <td>0.2</td>\n",
       "      <td>0</td>\n",
       "    </tr>\n",
       "    <tr>\n",
       "      <th>4</th>\n",
       "      <td>5.0</td>\n",
       "      <td>3.6</td>\n",
       "      <td>1.4</td>\n",
       "      <td>0.2</td>\n",
       "      <td>0</td>\n",
       "    </tr>\n",
       "  </tbody>\n",
       "</table>\n",
       "</div>"
      ],
      "text/plain": [
       "   sepal length (cm)  sepal width (cm)  petal length (cm)  petal width (cm)  \\\n",
       "0                5.1               3.5                1.4               0.2   \n",
       "1                4.9               3.0                1.4               0.2   \n",
       "2                4.7               3.2                1.3               0.2   \n",
       "3                4.6               3.1                1.5               0.2   \n",
       "4                5.0               3.6                1.4               0.2   \n",
       "\n",
       "   target  \n",
       "0       0  \n",
       "1       0  \n",
       "2       0  \n",
       "3       0  \n",
       "4       0  "
      ]
     },
     "execution_count": 6,
     "metadata": {},
     "output_type": "execute_result"
    }
   ],
   "source": [
    "df['target'] = pd.Series(ds.target)\n",
    "df.head(5)"
   ]
  },
  {
   "cell_type": "code",
   "execution_count": 7,
   "id": "ef13dd80",
   "metadata": {},
   "outputs": [
    {
     "data": {
      "text/plain": [
       "array([0, 1, 2])"
      ]
     },
     "execution_count": 7,
     "metadata": {},
     "output_type": "execute_result"
    }
   ],
   "source": [
    "df['target'].unique()"
   ]
  },
  {
   "cell_type": "code",
   "execution_count": 8,
   "id": "cc284acb",
   "metadata": {},
   "outputs": [],
   "source": [
    "x = df.iloc[:, 0:4].values"
   ]
  },
  {
   "cell_type": "code",
   "execution_count": 9,
   "id": "9d13a459",
   "metadata": {},
   "outputs": [
    {
     "name": "stdout",
     "output_type": "stream",
     "text": [
      "3.4644999999999997\n"
     ]
    },
    {
     "data": {
      "text/plain": [
       "1.9738430577598278"
      ]
     },
     "execution_count": 9,
     "metadata": {},
     "output_type": "execute_result"
    }
   ],
   "source": [
    "print(np.mean(x))\n",
    "np.std(x)"
   ]
  },
  {
   "cell_type": "code",
   "execution_count": 12,
   "id": "a07cec06",
   "metadata": {},
   "outputs": [
    {
     "data": {
      "text/plain": [
       "(-1.4684549872375404e-15, 1.0)"
      ]
     },
     "execution_count": 12,
     "metadata": {},
     "output_type": "execute_result"
    }
   ],
   "source": [
    "x_std = StandardScaler().fit_transform(x) \n",
    "x_std.mean(), x_std.std()"
   ]
  },
  {
   "cell_type": "code",
   "execution_count": 13,
   "id": "05c5411d",
   "metadata": {},
   "outputs": [
    {
     "name": "stdout",
     "output_type": "stream",
     "text": [
      "Covariance Matrix: [[ 1.00671141 -0.11835884  0.87760447  0.82343066]\n",
      " [-0.11835884  1.00671141 -0.43131554 -0.36858315]\n",
      " [ 0.87760447 -0.43131554  1.00671141  0.96932762]\n",
      " [ 0.82343066 -0.36858315  0.96932762  1.00671141]]\n",
      " Eigen Values: [2.93808505 0.9201649  0.14774182 0.02085386]\n",
      " Eigen Vectors: [[ 0.52106591 -0.37741762 -0.71956635  0.26128628]\n",
      " [-0.26934744 -0.92329566  0.24438178 -0.12350962]\n",
      " [ 0.5804131  -0.02449161  0.14212637 -0.80144925]\n",
      " [ 0.56485654 -0.06694199  0.63427274  0.52359713]]\n"
     ]
    }
   ],
   "source": [
    "cov_mat,  eigenvalues, eigenvectors = cal_cov_eig(x_std)"
   ]
  },
  {
   "cell_type": "code",
   "execution_count": 32,
   "id": "e6b7a995",
   "metadata": {},
   "outputs": [
    {
     "data": {
      "text/plain": [
       "[72.96244541329983, 22.850761786701817, 3.668921889282866, 0.5178709107154746]"
      ]
     },
     "execution_count": 32,
     "metadata": {},
     "output_type": "execute_result"
    }
   ],
   "source": [
    "p = cal_prop(eigenvalues)\n",
    "p"
   ]
  },
  {
   "cell_type": "code",
   "execution_count": 47,
   "id": "541d2326",
   "metadata": {},
   "outputs": [
    {
     "data": {
      "text/plain": [
       "array([[2.93808505e+00, 6.67624047e-16],\n",
       "       [6.67624047e-16, 9.20164904e-01]])"
      ]
     },
     "execution_count": 47,
     "metadata": {},
     "output_type": "execute_result"
    }
   ],
   "source": [
    "#no. of principal comp\n",
    "k = 2\n",
    "evect_sorted = sort_evect(eigenvalues, eigenvectors)\n",
    "output = apply_pca(evect_sorted[:k,:], x_std)\n",
    "np.cov(output.T)"
   ]
  },
  {
   "cell_type": "code",
   "execution_count": 57,
   "id": "fa47bc52",
   "metadata": {},
   "outputs": [
    {
     "data": {
      "image/png": "[encoded data removed]",
      "text/plain": [
       "<Figure size 432x288 with 1 Axes>"
      ]
     },
     "metadata": {
      "needs_background": "light"
     },
     "output_type": "display_data"
    }
   ],
   "source": [
    " visualize_data(output[:,0], output[:,1], 'Fig: PCA with two components on Iris flower data ', df.iloc[:,4])"
   ]
  },
  {
   "cell_type": "code",
   "execution_count": 20,
   "id": "399076d8",
   "metadata": {},
   "outputs": [],
   "source": [
    "#latek\n",
    "#built in pca feature vs. "
   ]
  },
  {
   "cell_type": "code",
   "execution_count": 58,
   "id": "10891c59",
   "metadata": {},
   "outputs": [
    {
     "data": {
      "image/png": "[encoded data removed]",
      "text/plain": [
       "<Figure size 432x288 with 1 Axes>"
      ]
     },
     "metadata": {
      "needs_background": "light"
     },
     "output_type": "display_data"
    }
   ],
   "source": [
    "from sklearn.decomposition import PCA\n",
    "\n",
    "# Assume you have a dataset called `data` with dimensions (m, n)\n",
    "\n",
    "# Create an instance of PCA with the desired number of components\n",
    "n_components = 2  # Specify the number of principal components you want to retain\n",
    "pca = PCA(n_components=n_components)\n",
    "\n",
    "# Fit the PCA model to the data\n",
    "pca.fit(x_std)\n",
    "\n",
    "# Transform the data to the lower-dimensional space\n",
    "transformed_data = pca.transform(x_std)\n",
    "\n",
    "# Access the explained variance ratio\n",
    "explained_variance_ratio = pca.explained_variance_ratio_\n",
    "\n",
    "# Access the principal components\n",
    "principal_components = pca.components_\n",
    "\n",
    "visualize_data(transformed_data[:,0], transformed_data[:,1], 'Fig: PCA using scikit on Iris flower data ', df.iloc[:,4])\n"
   ]
  },
  {
   "cell_type": "code",
   "execution_count": null,
   "id": "b3f32328",
   "metadata": {},
   "outputs": [],
   "source": []
  }
 ],
 "metadata": {
  "kernelspec": {
   "display_name": "Python 3 (ipykernel)",
   "language": "python",
   "name": "python3"
  },
  "language_info": {
   "codemirror_mode": {
    "name": "ipython",
    "version": 3
   },
   "file_extension": ".py",
   "mimetype": "text/x-python",
   "name": "python",
   "nbconvert_exporter": "python",
   "pygments_lexer": "ipython3",
   "version": "3.10.6"
  }
 },
 "nbformat": 4,
 "nbformat_minor": 5
}
